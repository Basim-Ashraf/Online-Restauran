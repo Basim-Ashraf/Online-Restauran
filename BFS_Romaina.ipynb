{
 "cells": [
  {
   "cell_type": "code",
   "execution_count": 1,
   "metadata": {},
   "outputs": [],
   "source": [
    "graph = {\n",
    "    \"Arad\":[(\"Timisoara\",118),(\"Sibiu\",140),(\"Zerind\",75)],\n",
    "    \"Zerind\":[(\"Arad\",75),(\"Oradea\",71)],\n",
    "    \"Oradea\":[(\"Zerind\",71),(\"Sibiu\",151)],\n",
    "    \"Sibiu\":[(\"Arad\",140),(\"Rimnicu Vilcea\",80),(\"Fagaras\",99),(\"Oradea\",151)],\n",
    "    \"Fagaras\":[(\"Sibiu\",99),(\"Bucharest\",211)],\n",
    "    \"Rimnicu Vilcea\":[(\"Sibiu\",80),(\"Pitesti\",97),(\"Craiova\",146)],\n",
    "    \"Pitesti\":[(\"Rimnicu Vilcea\",97),(\"Bucharest\",101),(\"Craiova\",138)],\n",
    "    \"Craiova\":[(\"Pitesti\",138),(\"Rimnicu Vilcea\",146),(\"Dobreta\",120)],\n",
    "    \"Dobreta\":[(\"Craiova\",120),(\"Mehadia\",75)],\n",
    "    \"Mehadia\":[(\"Dobreta\",75),(\"Lugoj\",70)],\n",
    "    \"Lugoj\":[(\"Mehadia\",70),(\"Timisoara\",111)],\n",
    "    \"Timisoara\":[(\"Lugoj\",111),(\"Arad\",118)],\n",
    "    \"Bucharest\":[(\"Fagaras\",211),(\"Pitesti\",101),(\"Giurgiu\",90),(\"Urziceni\",85)],\n",
    "    \"Giurgiu\":[(\"Bucharest\",90)],\n",
    "    \"Urziceni\":[(\"Bucharest\",85),(\"Hirsova\",98),(\"Vaslui\",142)],\n",
    "    \"Hirsova\":[(\"Urziceni\",98),(\"Eforie\",86)],\n",
    "    \"Eforie\":[(\"Hirsova\",86)],\n",
    "    \"Vaslui\":[(\"Urziceni\",142),(\"Iasi\",92)],\n",
    "    \"Iasi\":[(\"Vaslui\",92),(\"Neamt\",87)],\n",
    "    \"Neamt\":[(\"Iasi\",87)]\n",
    "}\n"
   ]
  },
  {
   "cell_type": "markdown",
   "metadata": {},
   "source": [
    "Solving Romania Problem"
   ]
  },
  {
   "cell_type": "code",
   "execution_count": 2,
   "metadata": {},
   "outputs": [],
   "source": [
    "def bfs(start,goal):\n",
    "    explored = []\n",
    "    # The parent relationships\n",
    "    rel = {}\n",
    "    # The frontier is a queue\n",
    "    fronter = [start]\n",
    "    while len(fronter)>0:\n",
    "        # Extract the top node from the queue\n",
    "        curr = fronter.pop(0)\n",
    "        # Check if the node is the goal\n",
    "        if curr==goal:\n",
    "            # Return solution path\n",
    "            solution = [curr]\n",
    "            x = rel.get(curr,-1)\n",
    "            while x!=-1:\n",
    "                solution.append(x)\n",
    "                x = rel.get(x,-1)\n",
    "            return solution\n",
    "\n",
    "        # if not goal add the node to explored\n",
    "        explored.append(curr)\n",
    "\n",
    "        # Get the successors of the node\n",
    "        for i in graph[curr]:\n",
    "            # if the successor not in explored and fronter add in fronter\n",
    "            if i[0] not in explored and i[0] not in fronter:\n",
    "                fronter.append(i[0])\n",
    "                rel[i[0]] = curr\n",
    "    return \"No Solution found!\""
   ]
  },
  {
   "cell_type": "markdown",
   "metadata": {},
   "source": [
    "Calculate Cost"
   ]
  },
  {
   "cell_type": "code",
   "execution_count": 3,
   "metadata": {},
   "outputs": [],
   "source": [
    "# Calculate the path cost\n",
    "def cal_cost(sol):\n",
    "    sum = 0\n",
    "    for i in range(len(sol)-1):\n",
    "        ns = graph[sol[i]]\n",
    "        for j in ns:\n",
    "            if j[0]==sol[i+1]:\n",
    "                sum+=j[1]\n",
    "                break\n",
    "    return sum\n"
   ]
  },
  {
   "cell_type": "markdown",
   "metadata": {},
   "source": [
    "Execution"
   ]
  },
  {
   "cell_type": "code",
   "execution_count": 4,
   "metadata": {},
   "outputs": [
    {
     "name": "stdout",
     "output_type": "stream",
     "text": [
      "['Arad', 'Sibiu', 'Fagaras', 'Bucharest']\n",
      "Total Cost = 450\n"
     ]
    }
   ],
   "source": [
    "sol = bfs(\"Arad\",\"Bucharest\")\n",
    "sol.reverse()\n",
    "print(sol)\n",
    "print(f\"Total Cost = {cal_cost(sol)}\")"
   ]
  }
 ],
 "metadata": {
  "kernelspec": {
   "display_name": "Python 3",
   "language": "python",
   "name": "python3"
  },
  "language_info": {
   "codemirror_mode": {
    "name": "ipython",
    "version": 3
   },
   "file_extension": ".py",
   "mimetype": "text/x-python",
   "name": "python",
   "nbconvert_exporter": "python",
   "pygments_lexer": "ipython3",
   "version": "3.10.7"
  },
  "orig_nbformat": 4,
  "vscode": {
   "interpreter": {
    "hash": "25315d184ae1b5b53fe6a801e38c6d8641bbebdfe68235db31e99f74c3473e8e"
   }
  }
 },
 "nbformat": 4,
 "nbformat_minor": 2
}
